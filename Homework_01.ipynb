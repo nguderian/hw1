{
 "cells": [
  {
   "cell_type": "markdown",
   "metadata": {},
   "source": [
    "# Regression Homework\n",
    "\n",
    "This is the first assignment for CAP 4630 and we will develop two basic models with regression. \\\n",
    "You will use **\"Tasks\"** and **\"Hints\"** to finish the work. **(Total 100 Points)** \\\n",
    "You are **not** allowed to use Machine Learning libaries such as Scikit-learn and Keras.\n",
    "\n",
    "**Task Overview:**\n",
    "- Singal Variable Nonlinear Regression \n",
    "- Multiple Variable Linear Regression\n"
   ]
  },
  {
   "cell_type": "markdown",
   "metadata": {},
   "source": [
    "## 1 - Packages ##\n",
    "\n",
    "Import useful packages for scientific computing and data processing. **(5 Points)**\n",
    "\n",
    "**Tasks:**\n",
    "1. Import numpy and rename it to np.\n",
    "2. Import pandas and rename it to pd.\n",
    "3. Import the pyplot function in the libraray of matplotlib and rename it to plt.\n",
    "\n",
    "References:\n",
    "- [numpy](www.numpy.org) is the fundamental package for scientific computing with Python.\n",
    "- [matplotlib](http://matplotlib.org) is a famous library to plot graphs in Python.\n",
    "\n",
    "**Attention:**\n",
    "1. After this renaming, you will use the new name to call functions. For example, **numpy** will become **np** in the following sections.\n"
   ]
  },
  {
   "cell_type": "code",
   "execution_count": 1,
   "metadata": {},
   "outputs": [],
   "source": [
    "# Import and rename libraries here\n",
    "\n"
   ]
  },
  {
   "cell_type": "markdown",
   "metadata": {
    "collapsed": true
   },
   "source": [
    "## 2 - Data Preparation ##\n",
    "\n",
    "Prepare the data for regression task. **(10 Points)**\n",
    "\n",
    "**Tasks:**\n",
    "1. Load data for nonlinear regression.\n",
    "2. Generate the scatter plot of the data.\n",
    "\n",
    "**Hints:**\n",
    "1. The data file is \"data_nonlinear.csv\".\n",
    "2. The data format is as follows: 1st column is X and 2nd column is Y.\n",
    "3. You may follow the example in class."
   ]
  },
  {
   "cell_type": "code",
   "execution_count": 2,
   "metadata": {},
   "outputs": [],
   "source": [
    "# Preprocess input data and generate plots\n"
   ]
  },
  {
   "cell_type": "markdown",
   "metadata": {},
   "source": [
    "## 3 - Single Variable Nonlinear Regression ##\n",
    "\n",
    "\n",
    "Develop a regression model, estimate coefficients with data, and derive the relationship. **(30 Points)**\n",
    "\n",
    "**Tasks:**\n",
    "1. Establish a relationship between Y and X with a quadratic function.\n",
    "2. Compute MSE loss with observation-prediction pairs. \n",
    "3. Implement Stochastic Gradient Descent (SGD) to achieve optimal solution with the learning rate of **0.0001** and 10000 epochs.\n",
    "4. Print out the optimal solution at final step. \n",
    "\n",
    "**Hints:**  \n",
    "1. Given the example of linear regression in class, modify the function to an equation for a parabola with coefficients of **a** , **b**, and **c** for qudractic, linear, and constant term.\n",
    "2. Initialize the model with zero. For example, a=0, b=0, and c=0.\n",
    "3. It may take **10-15 seconds**  to finish the running for 10000 steps. Be patient.\n",
    "3. For debugging, the results of **a**, **b**, and **c** for first five steps are as follows:\n",
    "\n",
    "Epoch 0: 3.522850763234379 &nbsp; 0.4636117434077167 &nbsp; 0.0657326585304121 \\\n",
    "Epoch 1: 5.863455084318797 &nbsp; 0.7717473808944446 &nbsp; 0.1094845844539659 \\\n",
    "Epoch 2: 7.418562189587087 &nbsp; 0.9765829680329118 &nbsp; 0.1386322511155162 \\\n",
    "Epoch 3: 8.451776522837656 &nbsp; 1.1127848361152428 &nbsp; 0.1580766665797253 \\\n",
    "Epoch 4: 9.138239705471658 &nbsp; 1.2033856677109787 &nbsp; 0.1710741132129369\n"
   ]
  },
  {
   "cell_type": "code",
   "execution_count": 3,
   "metadata": {},
   "outputs": [],
   "source": [
    "# Build the model here\n",
    "\n",
    "\n",
    "\n"
   ]
  },
  {
   "cell_type": "markdown",
   "metadata": {},
   "source": [
    "## 4 - Prediction Results ##\n",
    "\n",
    "Derive prediction function and generate estmated results. **(5 Points)**\n",
    "\n",
    "**Tasks:**\n",
    "1. Derive prediction function with the obtained coefficients above.\n",
    "2. Generate scatter plots for original data pairs X-Y and prediction results X-Y_Pred in the same figure.\n",
    "\n",
    "**Hint:**\n",
    "1. You may follow the example in class materials.\n",
    "2. An example is shown below.\n",
    "\n",
    "![mxplusc](Single_Variable_Nonlinear_Regression.png)"
   ]
  },
  {
   "cell_type": "code",
   "execution_count": 4,
   "metadata": {},
   "outputs": [],
   "source": [
    "# Generate prediction graphs here\n",
    "\n",
    "\n"
   ]
  },
  {
   "cell_type": "markdown",
   "metadata": {},
   "source": [
    "## 5 - Multiple Variables Linear Regression ##\n",
    "\n",
    "## 5.1 Data Preparation\n",
    "\n",
    "Prepare the data for regression task. **(10 Points)**\n",
    "\n",
    "**Tasks:**\n",
    "1. Load data for multiple variable linear regression.\n",
    "2. Generate the 3D scatter plot of the data.\n",
    "\n",
    "**Hints:**\n",
    "1. The data file is \"data_two_variables.csv\".\n",
    "2. The data format is as follows: 1st column is X1, 2nd column is X2, and 3rd colum is Y.\n",
    "3. You may use \"mplot3d\" in the toolkit of \"mpl_toolkits\" and import \"Axes3D\" to faciliate 3D scatter plot. More details can be found in the reference of https://matplotlib.org/mpl_toolkits/mplot3d/tutorial.html\n"
   ]
  },
  {
   "cell_type": "code",
   "execution_count": 5,
   "metadata": {},
   "outputs": [],
   "source": [
    "# Preprocess input data and generate plots\n"
   ]
  },
  {
   "cell_type": "markdown",
   "metadata": {},
   "source": [
    "\n",
    "## 5.2 Linear Regression\n",
    "\n",
    "Develop a regression model, estimate coefficients with data, and derive the relationship. **(30 Points)**\n",
    "\n",
    "**Tasks:**\n",
    "1. Establish a linear function to describe the relationship among Y, X1, and X2.\n",
    "2. Compute MSE loss with observation-prediction pairs \n",
    "3. Implement Stochastic Gradient Descent (SGD) to achieve optimal solution with the learning rate of **0.001**  and 10000 epochs.\n",
    "4. Print out the optimal solution at final step. \n",
    "\n",
    "\n",
    "**Hints:**  \n",
    "1. Given the example of linear regression in class, modify the function to a linear equation with two independent variables X1 and X2. The coefficients of X1 and X2 are **m1** and **m2**, respectively. The constant term is **m3**.\n",
    "2. Initialize the model with zero. For example, m1=0, m2=0, and m3=0.\n",
    "3. It may take **10-15 seconds**  to finish the running for 10000 steps. Be patient.\n",
    "4. For debugging, the results of **m1**, **m2**, and **m3** for first five steps are as follows:\n",
    "\n",
    "Epoch 0: 0.626270311781417 &nbsp; 1.2878873109656148 &nbsp; 0.131853565020141 \\\n",
    "Epoch 1: 1.094591701874305 &nbsp; 2.2053564293772494 &nbsp; 0.232875943398126 \\\n",
    "Epoch 2: 1.448920621209634 &nbsp; 2.8567953507664927 &nbsp; 0.311709041900032 \\\n",
    "Epoch 3: 1.720861720010732 &nbsp; 3.3172257148527318 &nbsp; 0.374564770080451 \\\n",
    "Epoch 4: 1.933141750092154 &nbsp; 3.6405628341256704 &nbsp; 0.425908509604264"
   ]
  },
  {
   "cell_type": "code",
   "execution_count": 6,
   "metadata": {},
   "outputs": [],
   "source": [
    "# Build the model\n",
    "\n"
   ]
  },
  {
   "cell_type": "markdown",
   "metadata": {},
   "source": [
    "\n",
    "## 5.3 - Prediction Results ##\n",
    "\n",
    "Derive prediction function and generate estmated results. **(10 Points)**\n",
    "\n",
    "**Tasks:**\n",
    "1. Derive prediction function with the obtained coefficients above.\n",
    "2. Generate 3D scatter plots for original data pairs X-Y and prediction results X-Y_Pred in the same figure.\n",
    "\n",
    "**Hint:**\n",
    "1. You may follow the example above.\n",
    "2. An example is shown below.\n",
    "\n",
    "![mxplusc](Multiple_Variable_Linear_Regression.png)"
   ]
  },
  {
   "cell_type": "code",
   "execution_count": 7,
   "metadata": {},
   "outputs": [],
   "source": [
    "# Generate prediction graphs here\n"
   ]
  },
  {
   "cell_type": "code",
   "execution_count": null,
   "metadata": {},
   "outputs": [],
   "source": []
  }
 ],
 "metadata": {
  "coursera": {
   "course_slug": "neural-networks-deep-learning",
   "graded_item_id": "XaIWT",
   "launcher_item_id": "zAgPl"
  },
  "kernelspec": {
   "display_name": "Python 3",
   "language": "python",
   "name": "python3"
  },
  "language_info": {
   "codemirror_mode": {
    "name": "ipython",
    "version": 3
   },
   "file_extension": ".py",
   "mimetype": "text/x-python",
   "name": "python",
   "nbconvert_exporter": "python",
   "pygments_lexer": "ipython3",
   "version": "3.8.3"
  }
 },
 "nbformat": 4,
 "nbformat_minor": 2
}
